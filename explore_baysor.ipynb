{
 "cells": [
  {
   "cell_type": "code",
   "execution_count": 6,
   "id": "1e8bd5ff",
   "metadata": {},
   "outputs": [],
   "source": [
    "stats_path = \"path/merged_segmentation_stats.csv\"\n",
    "counts_path = \"path/merged_segmentation_counts.csv\"\n",
    "segmentation_path = \"path/merged_segmentation.csv\"\n",
    "image_path=\"https://NGROKLINK.ngrok.io/notebooks/path/mosaic_DAPI_zX.tif\"\n",
    "n_pcs = 15\n",
    "n_neighbors = 15\n",
    "sample = \"test\"\n",
    "min_cells_exp = 4"
   ]
  },
  {
   "cell_type": "code",
   "execution_count": 3,
   "id": "a01dab8a",
   "metadata": {},
   "outputs": [],
   "source": [
    "\n",
    "import squidpy as sq\n",
    "import scanpy as sc\n",
    "import pandas as pd\n",
    "import seaborn as sns\n",
    "import numpy as np\n",
    "import matplotlib.pyplot as plt\n",
    "import h5py\n",
    "import json\n",
    "import os\n",
    "from os.path import join\n",
    "from urllib.request import urlretrieve\n",
    "from anndata import read_h5ad\n",
    "\n",
    "from vitessce import (\n",
    "    VitessceConfig,\n",
    "    Component as cm,\n",
    "    AnnDataWrapper,\n",
    "    CoordinationType as ct,\n",
    "    OmeTiffWrapper,\n",
    "    MultiImageWrapper,\n",
    ")\n"
   ]
  },
  {
   "cell_type": "code",
   "execution_count": 4,
   "id": "c526de05",
   "metadata": {},
   "outputs": [],
   "source": [
    "def change_origin(min_x_um,\n",
    "                  min_y_um,\n",
    "                  xcoord,\n",
    "                  ycoord):\n",
    "    \"\"\"This function transforms coordinates to have a given origin # to do - \n",
    "    just make it matrix multiplica\n",
    "    \n",
    "    Parameters\n",
    "    -----------\n",
    "    min_x: X coordinate origin\n",
    "    min_y: Y coordinate of origin\n",
    "    xcoord: X coordinate \n",
    "    ycoord: Y coordinate \n",
    "    \n",
    "    Returns\n",
    "    -----------\n",
    "    xcoord_rel_min: X coordinate with new origin\n",
    "    ycoord_rel_min: Y coordinate with new origin\n",
    "    \"\"\"\n",
    "    \n",
    "    # convert to relative coords\n",
    "    xcoord_rel = xcoord - min_x_um \n",
    "    ycoord_rel = ycoord - min_y_um \n",
    "    \n",
    "    return [xcoord_rel, ycoord_rel]\n",
    "    \n",
    "def convert_to_px_coords(microns_per_pixel, \n",
    "                         xcoord_um, \n",
    "                         ycoord_um):\n",
    "    \n",
    "    \"\"\"Molecule output from Vizgen is in um. This function converts um to px.\n",
    "    \n",
    "    Parameters\n",
    "    -----------\n",
    "    microns_per_pixel: Conversion microns to pixel space\n",
    "    xcoord_um: X coordinate in um\n",
    "    ycoord_um: Y coordinate in um\n",
    "    \n",
    "    Returns\n",
    "    -----------\n",
    "    xcoord_px: X coordinate in px\n",
    "    ycoord_px: Y coordinate in px\n",
    "    \"\"\"\n",
    "    \n",
    "    # convert to px space from um\n",
    "    xcoord_px = int(xcoord_um / microns_per_pixel)\n",
    "    ycoord_px = int(ycoord_um / microns_per_pixel)\n",
    "    \n",
    "    return [xcoord_px, ycoord_px]\n",
    "\n",
    "def molecules_to_px(microns_per_pixel, \n",
    "                    bbox_min_x_um,\n",
    "                    bbox_min_y_um,\n",
    "                    xcoord_um,\n",
    "                    ycoord_um):\n",
    "    \n",
    "    \"\"\"Vizgen outputs coordinates in um and the origin is not on the bounding box/area acquired. \n",
    "    This function transforms the origin to on the bounding box/area acquired and transforms\n",
    "    the coordinates to pixel space. \n",
    "    \n",
    "    Parameters\n",
    "    -----------\n",
    "    microns_per_pixel: Conversion microns to pixel space\n",
    "    bbox_min_x_um: X coordinate of bounding box origin in um\n",
    "    bbox_min_y_um: Y coordinate of bounding box origin in um\n",
    "    xcoord_um: X coordinate in um\n",
    "    ycoord_um: Y coordinate in um\n",
    "    \n",
    "    Returns\n",
    "    -----------\n",
    "    xcoord_rel_min_px: X coordinate in px with origin on bounding box\n",
    "    ycoord_rel_min_px: Y coordinate in px with origin on bounding box\n",
    "    \"\"\"\n",
    "    \n",
    "    # convert to relative coords\n",
    "    xcoord_rel_min, ycoord_rel_min =  change_origin(bbox_min_x_um, \n",
    "                         bbox_min_y_um,                          \n",
    "                         xcoord_um,\n",
    "                         ycoord_um)\n",
    "    \n",
    "    # convert um to px\n",
    "    xcoord_rel_min_px, ycoord_rel_min_px = convert_to_px_coords(microns_per_pixel, \n",
    "                         xcoord_rel_min, \n",
    "                         ycoord_rel_min)\n",
    "    \n",
    "    return [xcoord_rel_min_px, ycoord_rel_min_px]"
   ]
  },
  {
   "cell_type": "code",
   "execution_count": 7,
   "id": "118a4e45",
   "metadata": {},
   "outputs": [],
   "source": [
    "segmentation_stats = pd.read_csv(stats_path)\n",
    "segmentation_stats = segmentation_stats.set_index(\"cell\")\n",
    "counts = pd.read_csv(counts_path)\n",
    "counts = counts.set_index(\"cell\")\n",
    "segmentation = pd.read_csv(segmentation_path,\n",
    "                          dtype = {'gene_reserved': str})"
   ]
  },
  {
   "cell_type": "code",
   "execution_count": 11,
   "id": "5230dea4",
   "metadata": {},
   "outputs": [],
   "source": [
    "segmentation_plot = segmentation.loc[segmentation['is_noise'] == False]\n",
    "\n",
    "segmentation_stats = segmentation_stats[segmentation_stats['elongation'].notnull()] \n"
   ]
  },
  {
   "cell_type": "code",
   "execution_count": 12,
   "id": "ca70eb39",
   "metadata": {},
   "outputs": [],
   "source": [
    "counts_filt = counts.loc[counts.index.isin(segmentation_stats.index)]\n",
    "adata = sc.AnnData(counts_filt, obsm={\"spatial\": np.array(segmentation_stats[[\"x\", \"y\"]])})\n",
    "adata.var_names = counts_filt.columns"
   ]
  },
  {
   "cell_type": "code",
   "execution_count": 22,
   "id": "91389d91",
   "metadata": {},
   "outputs": [],
   "source": [
    "adata.obs['n_transcripts'] = segmentation_stats['n_transcripts'].values\n",
    "adata.obs['density'] = segmentation_stats['density'].values\n",
    "adata.obs['elongation'] = segmentation_stats['elongation'].values\n",
    "adata.obs['area'] = segmentation_stats['area'].values\n",
    "adata.obs['avg_confidence'] = segmentation_stats['avg_confidence'].values\n",
    "adata.obs['cluster'] = segmentation_stats['cluster'].values\n",
    "adata.obs['cluster'] = adata.obs['cluster'].astype('string')\n",
    "adata.obs['x_um'] = segmentation_stats['x'].values\n",
    "adata.obs['y_um'] = segmentation_stats['y'].values\n",
    "adata.obsm[\"spatial\"] = adata.obsm[\"spatial\"]*10\n"
   ]
  },
  {
   "cell_type": "code",
   "execution_count": 14,
   "id": "a99c455a",
   "metadata": {},
   "outputs": [],
   "source": [
    "# normalize counts per cell to the median value of counts per cell\n",
    "sc.pp.normalize_per_cell(adata)\n",
    "# log norm\n",
    "sc.pp.log1p(adata)\n",
    "# determine the highly variable genes to use \n",
    "sc.pp.highly_variable_genes(adata)\n",
    "# scale data \n",
    "sc.pp.scale(adata)\n",
    "# pca\n",
    "sc.tl.pca(adata)\n",
    "sc.pp.neighbors(adata, n_neighbors = n_neighbors, n_pcs = n_pcs)\n",
    "sc.tl.umap(adata)"
   ]
  },
  {
   "cell_type": "code",
   "execution_count": 15,
   "id": "e54afe37",
   "metadata": {},
   "outputs": [
    {
     "name": "stderr",
     "output_type": "stream",
     "text": [
      "/opt/conda/lib/python3.10/site-packages/anndata/utils.py:141: UserWarning: X converted to numpy array with dtype float64\n",
      "  warnings.warn(f\"{name} converted to numpy array with dtype {arr.dtype}\")\n"
     ]
    }
   ],
   "source": [
    "adata2 = sc.AnnData(segmentation_stats[[\"n_transcripts\", \"density\", \"elongation\", \"area\", \"avg_confidence\"]], obsm={\"spatial\": (np.array(segmentation_stats[[\"x\", \"y\"]])),\n",
    "                                             \"X_umap\" : adata.obsm[\"X_umap\"]})\n",
    "adata2.var_names = [\"n_transcripts\", \"density\", \"elongation\", \"area\", \"avg_confidence\"]\n",
    "sc.pp.scale(adata2)\n",
    "\n",
    "adata2.obsm[\"spatial\"] = adata.obsm[\"spatial\"]*10\n",
    "adata2.obs['n_transcripts'] = segmentation_stats['n_transcripts'].values\n",
    "adata2.obs['density'] = segmentation_stats['density'].values\n",
    "adata2.obs['elongation'] = segmentation_stats['elongation'].values\n",
    "adata2.obs['area'] = segmentation_stats['area'].values\n",
    "adata2.obs['avg_confidence'] = segmentation_stats['avg_confidence'].values\n",
    "adata2.obs['cluster'] = segmentation_stats['cluster'].values\n",
    "adata2.obs['cluster'] = adata.obs['cluster'].astype('string')\n",
    "#adata.obs['cluster'] = adata.obs['cluster'].astype('category')\n",
    "adata2.obs['x_um'] = segmentation_stats['x'].values\n",
    "adata2.obs['y_um'] = segmentation_stats['y'].values"
   ]
  },
  {
   "cell_type": "code",
   "execution_count": 21,
   "id": "0edadc79",
   "metadata": {
    "scrolled": true
   },
   "outputs": [
    {
     "name": "stderr",
     "output_type": "stream",
     "text": [
      "[2023-02-15 19:13:25 +0000] [57036] [INFO] Running on http://127.0.0.1:8005 (CTRL + C to quit)\n"
     ]
    },
    {
     "data": {
      "application/vnd.jupyter.widget-view+json": {
       "model_id": "6e1b3b881149425b924fff401cb29bd9",
       "version_major": 2,
       "version_minor": 0
      },
      "text/plain": [
       "VitessceWidget(config={'version': '1.0.7', 'name': 'MERFISH', 'description': '', 'datasets': [{'uid': 'A', 'na…"
      ]
     },
     "metadata": {},
     "output_type": "display_data"
    }
   ],
   "source": [
    "vc = VitessceConfig(name='MERFISH', description='')\n",
    "dataset = vc.add_dataset(name='Transcripts').add_object(AnnDataWrapper(\n",
    "        adata2,\n",
    "        mappings_obsm=[\"X_umap\"],\n",
    "        mappings_obsm_names=[\"UMAP\",],\n",
    "        cell_set_obs=[\"cluster\"],\n",
    "        cell_set_obs_names=[\"cluster\"],\n",
    "        spatial_centroid_obsm=\"spatial\",\n",
    "        expression_matrix=\"X\"    )\n",
    "                                                 )\n",
    "\n",
    "scatterplot = vc.add_view(cm.SCATTERPLOT, dataset=dataset, mapping=\"UMAP\")\n",
    "cell_sets = vc.add_view(cm.CELL_SETS, dataset=dataset)\n",
    "heatmap = vc.add_view(cm.HEATMAP, dataset=dataset)\n",
    "genes = vc.add_view(cm.GENES, dataset=dataset)\n",
    "spatial = vc.add_view(cm.SPATIAL, dataset=dataset)\n",
    "set_exp = vc.add_view(cm.CELL_SET_EXPRESSION, dataset = dataset)\n",
    "\n",
    "vc.layout((scatterplot |cell_sets)/ (genes | set_exp) / (heatmap |spatial));\n",
    "vw = vc.widget(proxy = True,  theme = \"light\", height = 1000)\n",
    "display(vw)"
   ]
  },
  {
   "cell_type": "code",
   "execution_count": 23,
   "id": "713d2548",
   "metadata": {
    "scrolled": true
   },
   "outputs": [
    {
     "name": "stderr",
     "output_type": "stream",
     "text": [
      "/opt/conda/lib/python3.10/site-packages/anndata/_core/anndata.py:1228: FutureWarning: The `inplace` parameter in pandas.Categorical.reorder_categories is deprecated and will be removed in a future version. Reordering categories will always return a new Categorical object.\n",
      "  c.reorder_categories(natsorted(c.categories), inplace=True)\n",
      "... storing 'cluster' as categorical\n",
      "[2023-02-15 19:14:12 +0000] [57036] [INFO] Running on http://127.0.0.1:8006 (CTRL + C to quit)\n"
     ]
    },
    {
     "data": {
      "application/vnd.jupyter.widget-view+json": {
       "model_id": "fc2669e185b145ae9d69fa0814a9674f",
       "version_major": 2,
       "version_minor": 0
      },
      "text/plain": [
       "VitessceWidget(config={'version': '1.0.7', 'name': 'MERFISH', 'description': '', 'datasets': [{'uid': 'A', 'na…"
      ]
     },
     "metadata": {},
     "output_type": "display_data"
    }
   ],
   "source": [
    "vc = VitessceConfig(name='MERFISH', description='')\n",
    "dataset = vc.add_dataset(name='Transcripts').add_object(AnnDataWrapper(\n",
    "        adata,\n",
    "        mappings_obsm=[\"X_umap\"],\n",
    "        mappings_obsm_names=[\"UMAP\",],\n",
    "        cell_set_obs=[\"cluster\"],\n",
    "        cell_set_obs_names=[\"cluster\"],\n",
    "        spatial_centroid_obsm=\"spatial\",\n",
    "        expression_matrix=\"X\"    )\n",
    "                                                 )\n",
    "\n",
    "scatterplot = vc.add_view(cm.SCATTERPLOT, dataset=dataset, mapping=\"UMAP\")\n",
    "cell_sets = vc.add_view(cm.CELL_SETS, dataset=dataset)\n",
    "heatmap = vc.add_view(cm.HEATMAP, dataset=dataset)\n",
    "genes = vc.add_view(cm.GENES, dataset=dataset)\n",
    "spatial = vc.add_view(cm.SPATIAL, dataset=dataset)\n",
    "set_exp = vc.add_view(cm.CELL_SET_EXPRESSION, dataset = dataset)\n",
    "\n",
    "vc.layout((scatterplot |cell_sets)/ (genes | set_exp) / (heatmap |spatial));\n",
    "vw = vc.widget(proxy = True,  theme = \"light\", height = 1000)\n",
    "display(vw)"
   ]
  },
  {
   "cell_type": "code",
   "execution_count": null,
   "id": "f5102e58",
   "metadata": {},
   "outputs": [],
   "source": []
  }
 ],
 "metadata": {
  "kernelspec": {
   "display_name": "Python 3",
   "language": "python",
   "name": "python3"
  },
  "language_info": {
   "codemirror_mode": {
    "name": "ipython",
    "version": 3
   },
   "file_extension": ".py",
   "mimetype": "text/x-python",
   "name": "python",
   "nbconvert_exporter": "python",
   "pygments_lexer": "ipython3",
   "version": "3.9.6 (default, Oct 18 2022, 12:41:40) \n[Clang 14.0.0 (clang-1400.0.29.202)]"
  },
  "vscode": {
   "interpreter": {
    "hash": "31f2aee4e71d21fbe5cf8b01ff0e069b9275f58929596ceb00d14d90e3e16cd6"
   }
  }
 },
 "nbformat": 4,
 "nbformat_minor": 5
}
